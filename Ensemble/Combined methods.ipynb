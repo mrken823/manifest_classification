{
 "cells": [
  {
   "cell_type": "code",
   "execution_count": 1,
   "metadata": {},
   "outputs": [
    {
     "name": "stderr",
     "output_type": "stream",
     "text": [
      "/usr/lib64/python3.6/importlib/_bootstrap.py:205: RuntimeWarning: numpy.dtype size changed, may indicate binary incompatibility. Expected 96, got 88\n",
      "  return f(*args, **kwds)\n",
      "/usr/lib64/python3.6/importlib/_bootstrap.py:205: RuntimeWarning: numpy.dtype size changed, may indicate binary incompatibility. Expected 96, got 88\n",
      "  return f(*args, **kwds)\n",
      "Using TensorFlow backend.\n"
     ]
    }
   ],
   "source": [
    "import numpy as np\n",
    "import pandas as pd\n",
    "from keras.models import Sequential\n",
    "from keras.layers import Dense, Activation\n",
    "from keras.utils import to_categorical\n",
    "from keras.callbacks import *\n",
    "from keras_lr_finder import *\n",
    "import collections"
   ]
  },
  {
   "cell_type": "code",
   "execution_count": 2,
   "metadata": {},
   "outputs": [],
   "source": [
    "x_train = np.array(pd.read_feather('Data/pvec_all.feather'))"
   ]
  },
  {
   "cell_type": "code",
   "execution_count": 3,
   "metadata": {},
   "outputs": [],
   "source": [
    "lbl = np.squeeze(pd.read_feather('Data/lbl_all.feather'))"
   ]
  },
  {
   "cell_type": "code",
   "execution_count": 4,
   "metadata": {},
   "outputs": [],
   "source": [
    "loss_wgt = pd.read_feather('LOSS_WGT_SQRT.feather')"
   ]
  },
  {
   "cell_type": "code",
   "execution_count": 5,
   "metadata": {},
   "outputs": [],
   "source": [
    "itol = pd.read_feather('Data/52SubCodes.feather')['lbl']\n",
    "ltoi = collections.defaultdict(lambda:0, {v:k for k,v in enumerate(itol)})"
   ]
  },
  {
   "cell_type": "code",
   "execution_count": 6,
   "metadata": {},
   "outputs": [],
   "source": [
    "lbl = [ltoi[lbl[i]] for i in range(len(lbl))]"
   ]
  },
  {
   "cell_type": "code",
   "execution_count": 7,
   "metadata": {
    "scrolled": true
   },
   "outputs": [],
   "source": [
    "model = None\n",
    "model = Sequential()\n",
    "model.add(Dense(128, activation='relu', input_dim=104))\n",
    "model.add(Dense(64, activation='relu'))\n",
    "model.add(Dense(52, activation='softmax'))\n",
    "model.compile(optimizer='adam',\n",
    "              loss='categorical_crossentropy',\n",
    "              metrics=['accuracy'])"
   ]
  },
  {
   "cell_type": "code",
   "execution_count": 8,
   "metadata": {},
   "outputs": [],
   "source": [
    "y_train = to_categorical(lbl, 52)"
   ]
  },
  {
   "cell_type": "code",
   "execution_count": 9,
   "metadata": {},
   "outputs": [
    {
     "name": "stdout",
     "output_type": "stream",
     "text": [
      "_________________________________________________________________\n",
      "Layer (type)                 Output Shape              Param #   \n",
      "=================================================================\n",
      "dense_1 (Dense)              (None, 128)               13440     \n",
      "_________________________________________________________________\n",
      "dense_2 (Dense)              (None, 64)                8256      \n",
      "_________________________________________________________________\n",
      "dense_3 (Dense)              (None, 52)                3380      \n",
      "=================================================================\n",
      "Total params: 25,076\n",
      "Trainable params: 25,076\n",
      "Non-trainable params: 0\n",
      "_________________________________________________________________\n",
      "None\n"
     ]
    }
   ],
   "source": [
    "print(model.summary())"
   ]
  },
  {
   "cell_type": "code",
   "execution_count": 10,
   "metadata": {},
   "outputs": [],
   "source": [
    "lr_finder = LRFinder(model)"
   ]
  },
  {
   "cell_type": "code",
   "execution_count": 11,
   "metadata": {},
   "outputs": [
    {
     "name": "stdout",
     "output_type": "stream",
     "text": [
      "Epoch 1/5\n",
      "2179014/2179014 [==============================] - 35s 16us/step - loss: 1.1765 - acc: 0.7624\n",
      "Epoch 2/5\n",
      "2179014/2179014 [==============================] - 42s 19us/step - loss: 0.5394 - acc: 0.8577\n",
      "Epoch 3/5\n",
      "2179014/2179014 [==============================] - 42s 19us/step - loss: 0.5211 - acc: 0.8548\n",
      "Epoch 4/5\n",
      "2089984/2179014 [===========================>..] - ETA: 1s - loss: 0.6855 - acc: 0.8379"
     ]
    }
   ],
   "source": [
    "lr_finder.find(x_train, y_train, start_lr=0.0001, end_lr=1, batch_size=1024, epochs=5)"
   ]
  },
  {
   "cell_type": "code",
   "execution_count": 12,
   "metadata": {},
   "outputs": [
    {
     "data": {
      "image/png": "[encoded data removed]",
      "text/plain": [
       "<Figure size 432x288 with 1 Axes>"
      ]
     },
     "metadata": {},
     "output_type": "display_data"
    }
   ],
   "source": [
    "lr_finder.plot_loss(n_skip_beginning=20, n_skip_end=5)"
   ]
  },
  {
   "cell_type": "code",
   "execution_count": 13,
   "metadata": {},
   "outputs": [],
   "source": [
    "early_stop = EarlyStopping(monitor='val_loss', min_delta=0.001, patience=5, verbose=0, mode='auto', baseline=None)"
   ]
  },
  {
   "cell_type": "code",
   "execution_count": 14,
   "metadata": {
    "scrolled": false
   },
   "outputs": [
    {
     "name": "stdout",
     "output_type": "stream",
     "text": [
      "Train on 1743211 samples, validate on 435803 samples\n",
      "Epoch 1/100\n",
      "1743211/1743211 [==============================] - 30s 17us/step - loss: 0.6181 - acc: 0.8453 - val_loss: 0.5140 - val_acc: 0.8645\n",
      "Epoch 2/100\n",
      "1743211/1743211 [==============================] - 31s 18us/step - loss: 0.5298 - acc: 0.8568 - val_loss: 0.4920 - val_acc: 0.8650\n",
      "Epoch 3/100\n",
      "1743211/1743211 [==============================] - 29s 17us/step - loss: 0.5132 - acc: 0.8572 - val_loss: 0.4790 - val_acc: 0.8664\n",
      "Epoch 4/100\n",
      "1743211/1743211 [==============================] - 31s 18us/step - loss: 0.5031 - acc: 0.8574 - val_loss: 0.4717 - val_acc: 0.8660\n",
      "Epoch 5/100\n",
      "1743211/1743211 [==============================] - 30s 17us/step - loss: 0.4969 - acc: 0.8576 - val_loss: 0.4694 - val_acc: 0.8656\n",
      "Epoch 6/100\n",
      "1743211/1743211 [==============================] - 29s 16us/step - loss: 0.4924 - acc: 0.8576 - val_loss: 0.4653 - val_acc: 0.8656\n",
      "Epoch 7/100\n",
      "1743211/1743211 [==============================] - 29s 16us/step - loss: 0.4892 - acc: 0.8580 - val_loss: 0.4642 - val_acc: 0.8658\n",
      "Epoch 8/100\n",
      "1743211/1743211 [==============================] - 28s 16us/step - loss: 0.4866 - acc: 0.8581 - val_loss: 0.4627 - val_acc: 0.8654\n",
      "Epoch 9/100\n",
      "1743211/1743211 [==============================] - 30s 17us/step - loss: 0.4846 - acc: 0.8580 - val_loss: 0.4599 - val_acc: 0.8664\n",
      "Epoch 10/100\n",
      "1743211/1743211 [==============================] - 29s 17us/step - loss: 0.4828 - acc: 0.8583 - val_loss: 0.4586 - val_acc: 0.8656\n",
      "Epoch 11/100\n",
      "1743211/1743211 [==============================] - 29s 17us/step - loss: 0.4814 - acc: 0.8584 - val_loss: 0.4579 - val_acc: 0.8658\n",
      "Epoch 12/100\n",
      "1743211/1743211 [==============================] - 27s 16us/step - loss: 0.4800 - acc: 0.8585 - val_loss: 0.4577 - val_acc: 0.8663\n",
      "Epoch 13/100\n",
      "1743211/1743211 [==============================] - 30s 17us/step - loss: 0.4788 - acc: 0.8587 - val_loss: 0.4555 - val_acc: 0.8661\n",
      "Epoch 14/100\n",
      "1743211/1743211 [==============================] - 31s 18us/step - loss: 0.4778 - acc: 0.8588 - val_loss: 0.4569 - val_acc: 0.8651\n",
      "Epoch 15/100\n",
      "1743211/1743211 [==============================] - 28s 16us/step - loss: 0.4769 - acc: 0.8589 - val_loss: 0.4554 - val_acc: 0.8661\n",
      "Epoch 16/100\n",
      "1743211/1743211 [==============================] - 28s 16us/step - loss: 0.4760 - acc: 0.8589 - val_loss: 0.4554 - val_acc: 0.8662\n",
      "Epoch 17/100\n",
      "1743211/1743211 [==============================] - 30s 17us/step - loss: 0.4754 - acc: 0.8591 - val_loss: 0.4548 - val_acc: 0.8659\n",
      "Epoch 18/100\n",
      "1743211/1743211 [==============================] - 31s 18us/step - loss: 0.4746 - acc: 0.8592 - val_loss: 0.4542 - val_acc: 0.8668\n",
      "Epoch 19/100\n",
      "1743211/1743211 [==============================] - 30s 17us/step - loss: 0.4740 - acc: 0.8592 - val_loss: 0.4532 - val_acc: 0.8663\n",
      "Epoch 20/100\n",
      "1743211/1743211 [==============================] - 32s 18us/step - loss: 0.4735 - acc: 0.8593 - val_loss: 0.4525 - val_acc: 0.8664\n",
      "Epoch 21/100\n",
      "1743211/1743211 [==============================] - 33s 19us/step - loss: 0.4729 - acc: 0.8592 - val_loss: 0.4527 - val_acc: 0.8665\n",
      "Epoch 22/100\n",
      "1743211/1743211 [==============================] - 29s 17us/step - loss: 0.4724 - acc: 0.8595 - val_loss: 0.4545 - val_acc: 0.8661\n",
      "Epoch 23/100\n",
      "1743211/1743211 [==============================] - 30s 17us/step - loss: 0.4720 - acc: 0.8595 - val_loss: 0.4533 - val_acc: 0.8657\n",
      "Epoch 24/100\n",
      "1743211/1743211 [==============================] - 27s 16us/step - loss: 0.4714 - acc: 0.8595 - val_loss: 0.4532 - val_acc: 0.8662\n",
      "Epoch 25/100\n",
      "1743211/1743211 [==============================] - 32s 18us/step - loss: 0.4711 - acc: 0.8595 - val_loss: 0.4528 - val_acc: 0.8659\n"
     ]
    }
   ],
   "source": [
    "history = model.fit(x_train, y_train,\n",
    "                    validation_split=.2,\n",
    "                    epochs=100,\n",
    "                    batch_size=1024,\n",
    "                    class_weight=loss_wgt,\n",
    "                    callbacks=[early_stop] )"
   ]
  },
  {
   "cell_type": "code",
   "execution_count": 15,
   "metadata": {},
   "outputs": [],
   "source": [
    "predictions = model.predict(x_train, batch_size=1024)"
   ]
  },
  {
   "cell_type": "code",
   "execution_count": 33,
   "metadata": {},
   "outputs": [
    {
     "data": {
      "text/plain": [
       "(2179014, 52)"
      ]
     },
     "execution_count": 33,
     "metadata": {},
     "output_type": "execute_result"
    }
   ],
   "source": [
    "np.shape(predictions)"
   ]
  },
  {
   "cell_type": "code",
   "execution_count": 17,
   "metadata": {},
   "outputs": [],
   "source": [
    "correct = np.array([[np.argmax(predictions[i]) == lbl[i]] for i in range(len(predictions))]).sum()"
   ]
  },
  {
   "cell_type": "code",
   "execution_count": 18,
   "metadata": {},
   "outputs": [
    {
     "data": {
      "text/plain": [
       "(1876003, 0.8609412330531149)"
      ]
     },
     "execution_count": 18,
     "metadata": {},
     "output_type": "execute_result"
    }
   ],
   "source": [
    "correct, correct/len(predictions)"
   ]
  },
  {
   "cell_type": "code",
   "execution_count": 25,
   "metadata": {},
   "outputs": [],
   "source": [
    "pd.DataFrame(predictions, columns=itol.values.astype('str')).to_feather('Result Diagnostic/all_prob.feather')"
   ]
  },
  {
   "cell_type": "code",
   "execution_count": 44,
   "metadata": {},
   "outputs": [],
   "source": [
    "# Getting top 3 predictions\n",
    "all_top3 = [[itol[p] for p in np.argsort(-predictions[y])[range(3)]] for y in range(len(predictions))]\n",
    "all_top3 = pd.DataFrame(np.squeeze(all_top3), columns=np.array(['1st', '2nd', '3rd']))"
   ]
  },
  {
   "cell_type": "code",
   "execution_count": 46,
   "metadata": {},
   "outputs": [],
   "source": [
    "all_top3.to_feather('Result Diagnostic/top3.feather')"
   ]
  },
  {
   "cell_type": "code",
   "execution_count": 68,
   "metadata": {
    "scrolled": true
   },
   "outputs": [
    {
     "ename": "TypeError",
     "evalue": "bad operand type for unary -: 'NoneType'",
     "output_type": "error",
     "traceback": [
      "\u001b[0;31m---------------------------------------------------------------------------\u001b[0m",
      "\u001b[0;31mTypeError\u001b[0m                                 Traceback (most recent call last)",
      "\u001b[0;32m<ipython-input-68-f09ae0fd66d3>\u001b[0m in \u001b[0;36m<module>\u001b[0;34m()\u001b[0m\n\u001b[1;32m      1\u001b[0m \u001b[0mtop3_p\u001b[0m \u001b[0;34m=\u001b[0m \u001b[0;34m[\u001b[0m\u001b[0mnp\u001b[0m\u001b[0;34m.\u001b[0m\u001b[0msort\u001b[0m\u001b[0;34m(\u001b[0m\u001b[0;34m-\u001b[0m\u001b[0mpredictions\u001b[0m\u001b[0;34m[\u001b[0m\u001b[0my\u001b[0m\u001b[0;34m]\u001b[0m\u001b[0;34m)\u001b[0m\u001b[0;34m[\u001b[0m\u001b[0mrange\u001b[0m\u001b[0;34m(\u001b[0m\u001b[0;36m3\u001b[0m\u001b[0;34m)\u001b[0m\u001b[0;34m]\u001b[0m \u001b[0;32mfor\u001b[0m \u001b[0my\u001b[0m \u001b[0;32min\u001b[0m \u001b[0mrange\u001b[0m\u001b[0;34m(\u001b[0m\u001b[0mlen\u001b[0m\u001b[0;34m(\u001b[0m\u001b[0mpredictions\u001b[0m\u001b[0;34m)\u001b[0m\u001b[0;34m)\u001b[0m\u001b[0;34m]\u001b[0m\u001b[0;34m\u001b[0m\u001b[0m\n\u001b[1;32m      2\u001b[0m \u001b[0mtop3_p\u001b[0m \u001b[0;34m=\u001b[0m \u001b[0mpd\u001b[0m\u001b[0;34m.\u001b[0m\u001b[0mDataFrame\u001b[0m\u001b[0;34m(\u001b[0m\u001b[0mtop3_p\u001b[0m\u001b[0;34m,\u001b[0m \u001b[0mcolumns\u001b[0m\u001b[0;34m=\u001b[0m\u001b[0mnp\u001b[0m\u001b[0;34m.\u001b[0m\u001b[0marray\u001b[0m\u001b[0;34m(\u001b[0m\u001b[0;34m[\u001b[0m\u001b[0;34m'p_1st'\u001b[0m\u001b[0;34m,\u001b[0m \u001b[0;34m'p_2nd'\u001b[0m\u001b[0;34m,\u001b[0m \u001b[0;34m'p_3rd'\u001b[0m\u001b[0;34m]\u001b[0m\u001b[0;34m)\u001b[0m\u001b[0;34m)\u001b[0m\u001b[0;34m\u001b[0m\u001b[0m\n\u001b[0;32m----> 3\u001b[0;31m \u001b[0;34m-\u001b[0m\u001b[0mtop3_p\u001b[0m\u001b[0;34m.\u001b[0m\u001b[0mto_feather\u001b[0m\u001b[0;34m(\u001b[0m\u001b[0;34m'top3_prob.feather'\u001b[0m\u001b[0;34m)\u001b[0m\u001b[0;34m\u001b[0m\u001b[0m\n\u001b[0m",
      "\u001b[0;31mTypeError\u001b[0m: bad operand type for unary -: 'NoneType'"
     ]
    }
   ],
   "source": [
    "top3_p = [np.sort(-predictions[y])[range(3)] for y in range(len(predictions))]\n",
    "top3_p = pd.DataFrame(top3_p, columns=np.array(['p_1st', 'p_2nd', 'p_3rd']))"
   ]
  },
  {
   "cell_type": "code",
   "execution_count": 70,
   "metadata": {},
   "outputs": [],
   "source": [
    "top3_p = -top3_p\n",
    "top3_p.to_feather('Result Diagnostic/top3_prob.feather')"
   ]
  }
 ],
 "metadata": {
  "kernelspec": {
   "display_name": "Python 3",
   "language": "python",
   "name": "python3"
  },
  "language_info": {
   "codemirror_mode": {
    "name": "ipython",
    "version": 3
   },
   "file_extension": ".py",
   "mimetype": "text/x-python",
   "name": "python",
   "nbconvert_exporter": "python",
   "pygments_lexer": "ipython3",
   "version": "3.6.5"
  }
 },
 "nbformat": 4,
 "nbformat_minor": 2
}
